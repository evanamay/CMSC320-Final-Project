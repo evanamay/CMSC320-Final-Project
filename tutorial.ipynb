{
 "cells": [
  {
   "cell_type": "markdown",
   "metadata": {},
   "source": [
    "<center>\n",
    "    <h1>CMSC320 Final Project</h1>\n",
    "    Valentyn Bolotin, Jacob Barats, Evan May\n",
    "</center>\n",
    "<hr>"
   ]
  },
  {
   "cell_type": "markdown",
   "metadata": {},
   "source": [
    "<center>\n",
    "    <h3>Introduction</h3>\n",
    "</center>\n",
    "<ol>\n",
    "    <li>Introduce our topic</li>\n",
    "    <li>Significance of topic</li>\n",
    "    <li>Why this topic is important to us</li>\n",
    "    <li>Explain what we are trying to show with our analysis</li>\n",
    "</ol>\n",
    "\n",
    "<hr>"
   ]
  },
  {
   "cell_type": "markdown",
   "metadata": {},
   "source": [
    "<center>\n",
    "    <h3>Data collection/curation</h3>\n",
    "</center>\n",
    "<ol>\n",
    "    <li>Explain how we looked for data</li>\n",
    "    <li>Show/Explain data that we passed up on and give reasons as to why</li>\n",
    "    <li>Explain why we chose the data source that we used</li>\n",
    "</ol>\n",
    "\n",
    "<hr>"
   ]
  },
  {
   "cell_type": "markdown",
   "metadata": {},
   "source": [
    "<center>\n",
    "    <h3>Parsing and Data management</h3>\n",
    "</center>\n",
    "<ol>\n",
    "    <li>Why we used Google Collab</li>\n",
    "    <li>What imports did we use</li>\n",
    "    <li>Code used to import the data</li>\n",
    "    <li>Explanations of what the columns mean (the important columns that we will use)</li>\n",
    "    <li>Did we need to parse the data at all?</li>\n",
    "    <li>Show how we checked if there were any missing values and how we handled them</li>\n",
    "    <li>Did we need to tidy the data/remove unnessesary data</li>\n",
    "  </ol>\n",
    "<hr>"
   ]
  },
  {
   "cell_type": "markdown",
   "metadata": {},
   "source": [
    "<center>\n",
    "    <h3>Exploratory data analysis</h3>\n",
    "</center>\n",
    "<ol>\n",
    "    <li>How did we want to display the data</li>\n",
    "    <li>Code of displaying data</li>\n",
    "    <li>Graphs/Charts of displayed data</li>\n",
    "    </ol>\n",
    "There will be multiple groups of these three sections\n",
    "<hr>\n"
   ]
  },
  {
   "cell_type": "markdown",
   "metadata": {},
   "source": [
    "<center>\n",
    "    <h3>Hypothesis testing</h3>\n",
    "</center>\n",
    "<ol>\n",
    "    <li>Conduct hypothesis testing</li>\n",
    "    <li>Code of displaying data</li>\n",
    "    <li>Show results in multiple formats (graphs, data, etc)</li>\n",
    "  </ol>\n",
    "<hr>"
   ]
  },
  {
   "cell_type": "markdown",
   "metadata": {},
   "source": [
    "<center>\n",
    "    <h3>Communication of insights attained</h3>\n",
    "</center>\n",
    "  <ol>\n",
    "    <li>Descirbe what this data means (give multiple interpretations)</li>\n",
    "    <li>Give reasoning as to why the results were like this (any error that could have influenced results?)</li>\n",
    "    <li>Conclusion</li>\n",
    "  </ol>\n",
    "<hr>"
   ]
  },
  {
   "cell_type": "code",
   "execution_count": null,
   "metadata": {},
   "outputs": [],
   "source": [
    "import warnings\n",
    "warnings.filterwarnings('ignore')\n",
    "import numpy as np\n",
    "import pandas as pd\n",
    "import matplotlib.pyplot as plt\n",
    "import seaborn as sns"
   ]
  }
 ],
 "metadata": {
  "interpreter": {
   "hash": "299e424f89be8ccce72ba63aa96c48c8d27e04bfd8cb7ec2b051924377f31e5c"
  },
  "kernelspec": {
   "display_name": "Python 3.9.12 64-bit (windows store)",
   "language": "python",
   "name": "python3"
  },
  "language_info": {
   "codemirror_mode": {
    "name": "ipython",
    "version": 3
   },
   "file_extension": ".py",
   "mimetype": "text/x-python",
   "name": "python",
   "nbconvert_exporter": "python",
   "pygments_lexer": "ipython3",
   "version": "3.9.12"
  },
  "orig_nbformat": 4
 },
 "nbformat": 4,
 "nbformat_minor": 2
}
